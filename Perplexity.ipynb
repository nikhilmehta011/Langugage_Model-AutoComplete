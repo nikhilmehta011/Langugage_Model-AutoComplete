{
 "cells": [
  {
   "cell_type": "markdown",
   "metadata": {},
   "source": [
    "# Performance Metrics - Perplexity"
   ]
  },
  {
   "cell_type": "code",
   "execution_count": 33,
   "metadata": {},
   "outputs": [],
   "source": [
    "import random\n",
    "import import_ipynb\n",
    "from N_Gram_Language_Model import (tokenized_sentences, count_n_grams, estimate_probability, \n",
    "                      train_data_processed, test_data_processed, vocab)"
   ]
  },
  {
   "cell_type": "code",
   "execution_count": 7,
   "metadata": {},
   "outputs": [],
   "source": [
    "def calculate_perplexity(sentence, n_gram_counts, n_plus1_gram_counts, vocab_size, k=1.0):\n",
    "    \n",
    "    n = len(list(n_gram_counts.keys())[0])\n",
    "    \n",
    "    sentence = ['<s>']*(n-1) + sentence + ['<e>']\n",
    "    \n",
    "    sentence = tuple(sentence)\n",
    "    \n",
    "    N = len(sentence)\n",
    "    \n",
    "    product_pi = 1.0\n",
    "    \n",
    "    for t in range(n, N):\n",
    "        n_gram = sentence[t-n:t]\n",
    "        \n",
    "        word = sentence[t]\n",
    "        \n",
    "        probability = estimate_probability(word,n_gram,n_gram_counts,n_plus1_gram_counts, vocab_size,k=1)\n",
    "        \n",
    "        product_pi *= 1/probability\n",
    "        \n",
    "    perplexity = product_pi**(1/float(N))\n",
    "    \n",
    "    return perplexity"
   ]
  },
  {
   "cell_type": "code",
   "execution_count": 8,
   "metadata": {},
   "outputs": [],
   "source": [
    "tokens_list = []\n",
    "for sublist in test_data_processed:\n",
    "    for item in sublist:\n",
    "        tokens_list.append(item)"
   ]
  },
  {
   "cell_type": "code",
   "execution_count": 41,
   "metadata": {},
   "outputs": [],
   "source": [
    "bigram_counts = count_n_grams(tokenized_sentences, 2)\n",
    "trigram_counts = count_n_grams(tokenized_sentences, 3)\n",
    "\n",
    "perplexity_score = calculate_perplexity(tokens_list[:25],\n",
    "                                         bigram_counts, trigram_counts,\n",
    "                                         len(vocab), k=1.0)"
   ]
  },
  {
   "cell_type": "code",
   "execution_count": 42,
   "metadata": {},
   "outputs": [
    {
     "name": "stdout",
     "output_type": "stream",
     "text": [
      "Perplexity for first 25 test sample tokens: 5006.4850\n"
     ]
    }
   ],
   "source": [
    "print(f\"Perplexity for first 25 test sample tokens: {perplexity_score:.4f}\")"
   ]
  },
  {
   "cell_type": "code",
   "execution_count": null,
   "metadata": {},
   "outputs": [],
   "source": []
  }
 ],
 "metadata": {
  "kernelspec": {
   "display_name": "Python 3",
   "language": "python",
   "name": "python3"
  },
  "language_info": {
   "codemirror_mode": {
    "name": "ipython",
    "version": 3
   },
   "file_extension": ".py",
   "mimetype": "text/x-python",
   "name": "python",
   "nbconvert_exporter": "python",
   "pygments_lexer": "ipython3",
   "version": "3.7.7"
  }
 },
 "nbformat": 4,
 "nbformat_minor": 4
}
